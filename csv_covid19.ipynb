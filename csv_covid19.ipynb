{
 "cells": [
  {
   "cell_type": "code",
   "execution_count": 5,
   "metadata": {},
   "outputs": [
    {
     "data": {
      "text/html": [
       "<div>\n",
       "<style scoped>\n",
       "    .dataframe tbody tr th:only-of-type {\n",
       "        vertical-align: middle;\n",
       "    }\n",
       "\n",
       "    .dataframe tbody tr th {\n",
       "        vertical-align: top;\n",
       "    }\n",
       "\n",
       "    .dataframe thead th {\n",
       "        text-align: right;\n",
       "    }\n",
       "</style>\n",
       "<table border=\"1\" class=\"dataframe\">\n",
       "  <thead>\n",
       "    <tr style=\"text-align: right;\">\n",
       "      <th></th>\n",
       "      <th>date</th>\n",
       "      <th>state</th>\n",
       "      <th>city</th>\n",
       "      <th>place_type</th>\n",
       "      <th>confirmed</th>\n",
       "      <th>deaths</th>\n",
       "      <th>is_last</th>\n",
       "      <th>estimated_population_2019</th>\n",
       "      <th>city_ibge_code</th>\n",
       "      <th>confirmed_per_100k_inhabitants</th>\n",
       "      <th>death_rate</th>\n",
       "    </tr>\n",
       "  </thead>\n",
       "  <tbody>\n",
       "    <tr>\n",
       "      <td>0</td>\n",
       "      <td>2020-03-27</td>\n",
       "      <td>AC</td>\n",
       "      <td>Rio Branco</td>\n",
       "      <td>city</td>\n",
       "      <td>25</td>\n",
       "      <td>0.0</td>\n",
       "      <td>True</td>\n",
       "      <td>407319.0</td>\n",
       "      <td>1200401.0</td>\n",
       "      <td>6.13770</td>\n",
       "      <td>NaN</td>\n",
       "    </tr>\n",
       "    <tr>\n",
       "      <td>1</td>\n",
       "      <td>2020-03-27</td>\n",
       "      <td>AC</td>\n",
       "      <td>NaN</td>\n",
       "      <td>state</td>\n",
       "      <td>25</td>\n",
       "      <td>0.0</td>\n",
       "      <td>True</td>\n",
       "      <td>881935.0</td>\n",
       "      <td>12.0</td>\n",
       "      <td>2.83468</td>\n",
       "      <td>NaN</td>\n",
       "    </tr>\n",
       "    <tr>\n",
       "      <td>2</td>\n",
       "      <td>2020-03-27</td>\n",
       "      <td>AL</td>\n",
       "      <td>Maceió</td>\n",
       "      <td>city</td>\n",
       "      <td>11</td>\n",
       "      <td>NaN</td>\n",
       "      <td>True</td>\n",
       "      <td>1018948.0</td>\n",
       "      <td>2704302.0</td>\n",
       "      <td>1.07954</td>\n",
       "      <td>NaN</td>\n",
       "    </tr>\n",
       "    <tr>\n",
       "      <td>3</td>\n",
       "      <td>2020-03-27</td>\n",
       "      <td>AL</td>\n",
       "      <td>Porto Real do Colégio</td>\n",
       "      <td>city</td>\n",
       "      <td>1</td>\n",
       "      <td>NaN</td>\n",
       "      <td>True</td>\n",
       "      <td>20066.0</td>\n",
       "      <td>2707503.0</td>\n",
       "      <td>4.98355</td>\n",
       "      <td>NaN</td>\n",
       "    </tr>\n",
       "    <tr>\n",
       "      <td>4</td>\n",
       "      <td>2020-03-27</td>\n",
       "      <td>AL</td>\n",
       "      <td>NaN</td>\n",
       "      <td>state</td>\n",
       "      <td>12</td>\n",
       "      <td>NaN</td>\n",
       "      <td>True</td>\n",
       "      <td>3337357.0</td>\n",
       "      <td>27.0</td>\n",
       "      <td>0.35957</td>\n",
       "      <td>NaN</td>\n",
       "    </tr>\n",
       "  </tbody>\n",
       "</table>\n",
       "</div>"
      ],
      "text/plain": [
       "         date state                   city place_type  confirmed  deaths  \\\n",
       "0  2020-03-27    AC             Rio Branco       city         25     0.0   \n",
       "1  2020-03-27    AC                    NaN      state         25     0.0   \n",
       "2  2020-03-27    AL                 Maceió       city         11     NaN   \n",
       "3  2020-03-27    AL  Porto Real do Colégio       city          1     NaN   \n",
       "4  2020-03-27    AL                    NaN      state         12     NaN   \n",
       "\n",
       "   is_last  estimated_population_2019  city_ibge_code  \\\n",
       "0     True                   407319.0       1200401.0   \n",
       "1     True                   881935.0            12.0   \n",
       "2     True                  1018948.0       2704302.0   \n",
       "3     True                    20066.0       2707503.0   \n",
       "4     True                  3337357.0            27.0   \n",
       "\n",
       "   confirmed_per_100k_inhabitants  death_rate  \n",
       "0                         6.13770         NaN  \n",
       "1                         2.83468         NaN  \n",
       "2                         1.07954         NaN  \n",
       "3                         4.98355         NaN  \n",
       "4                         0.35957         NaN  "
      ]
     },
     "execution_count": 5,
     "metadata": {},
     "output_type": "execute_result"
    }
   ],
   "source": [
    "import pandas as pd\n",
    "%matplotlib inline\n",
    "df = pd.read_csv('covid19.csv')\n",
    "df.head()"
   ]
  },
  {
   "cell_type": "code",
   "execution_count": 6,
   "metadata": {},
   "outputs": [
    {
     "data": {
      "text/plain": [
       "(2151, 11)"
      ]
     },
     "execution_count": 6,
     "metadata": {},
     "output_type": "execute_result"
    }
   ],
   "source": [
    "df.shape\n"
   ]
  },
  {
   "cell_type": "code",
   "execution_count": 7,
   "metadata": {},
   "outputs": [
    {
     "data": {
      "text/plain": [
       "date                               object\n",
       "state                              object\n",
       "city                               object\n",
       "place_type                         object\n",
       "confirmed                           int64\n",
       "deaths                            float64\n",
       "is_last                              bool\n",
       "estimated_population_2019         float64\n",
       "city_ibge_code                    float64\n",
       "confirmed_per_100k_inhabitants    float64\n",
       "death_rate                        float64\n",
       "dtype: object"
      ]
     },
     "execution_count": 7,
     "metadata": {},
     "output_type": "execute_result"
    }
   ],
   "source": [
    "df.dtypes\n"
   ]
  },
  {
   "cell_type": "code",
   "execution_count": 8,
   "metadata": {},
   "outputs": [
    {
     "data": {
      "text/html": [
       "<div>\n",
       "<style scoped>\n",
       "    .dataframe tbody tr th:only-of-type {\n",
       "        vertical-align: middle;\n",
       "    }\n",
       "\n",
       "    .dataframe tbody tr th {\n",
       "        vertical-align: top;\n",
       "    }\n",
       "\n",
       "    .dataframe thead th {\n",
       "        text-align: right;\n",
       "    }\n",
       "</style>\n",
       "<table border=\"1\" class=\"dataframe\">\n",
       "  <thead>\n",
       "    <tr style=\"text-align: right;\">\n",
       "      <th></th>\n",
       "      <th>confirmed</th>\n",
       "      <th>deaths</th>\n",
       "      <th>estimated_population_2019</th>\n",
       "      <th>city_ibge_code</th>\n",
       "      <th>confirmed_per_100k_inhabitants</th>\n",
       "      <th>death_rate</th>\n",
       "    </tr>\n",
       "  </thead>\n",
       "  <tbody>\n",
       "    <tr>\n",
       "      <td>count</td>\n",
       "      <td>2151.000000</td>\n",
       "      <td>1868.000000</td>\n",
       "      <td>2.081000e+03</td>\n",
       "      <td>2.081000e+03</td>\n",
       "      <td>2055.000000</td>\n",
       "      <td>105.000000</td>\n",
       "    </tr>\n",
       "    <tr>\n",
       "      <td>mean</td>\n",
       "      <td>16.251511</td>\n",
       "      <td>0.361884</td>\n",
       "      <td>2.337236e+06</td>\n",
       "      <td>2.944834e+06</td>\n",
       "      <td>2.575954</td>\n",
       "      <td>0.220392</td>\n",
       "    </tr>\n",
       "    <tr>\n",
       "      <td>std</td>\n",
       "      <td>70.176558</td>\n",
       "      <td>3.581731</td>\n",
       "      <td>6.322935e+06</td>\n",
       "      <td>1.596553e+06</td>\n",
       "      <td>6.549919</td>\n",
       "      <td>0.325988</td>\n",
       "    </tr>\n",
       "    <tr>\n",
       "      <td>min</td>\n",
       "      <td>0.000000</td>\n",
       "      <td>0.000000</td>\n",
       "      <td>2.878000e+03</td>\n",
       "      <td>1.100000e+01</td>\n",
       "      <td>0.002180</td>\n",
       "      <td>0.004100</td>\n",
       "    </tr>\n",
       "    <tr>\n",
       "      <td>25%</td>\n",
       "      <td>1.000000</td>\n",
       "      <td>0.000000</td>\n",
       "      <td>8.984200e+04</td>\n",
       "      <td>2.308104e+06</td>\n",
       "      <td>0.367025</td>\n",
       "      <td>0.017500</td>\n",
       "    </tr>\n",
       "    <tr>\n",
       "      <td>50%</td>\n",
       "      <td>2.000000</td>\n",
       "      <td>0.000000</td>\n",
       "      <td>2.821230e+05</td>\n",
       "      <td>3.301702e+06</td>\n",
       "      <td>0.919830</td>\n",
       "      <td>0.055100</td>\n",
       "    </tr>\n",
       "    <tr>\n",
       "      <td>75%</td>\n",
       "      <td>6.000000</td>\n",
       "      <td>0.000000</td>\n",
       "      <td>1.204073e+06</td>\n",
       "      <td>4.208906e+06</td>\n",
       "      <td>2.422190</td>\n",
       "      <td>0.333300</td>\n",
       "    </tr>\n",
       "    <tr>\n",
       "      <td>max</td>\n",
       "      <td>1223.000000</td>\n",
       "      <td>68.000000</td>\n",
       "      <td>4.591905e+07</td>\n",
       "      <td>5.300108e+06</td>\n",
       "      <td>69.492700</td>\n",
       "      <td>1.000000</td>\n",
       "    </tr>\n",
       "  </tbody>\n",
       "</table>\n",
       "</div>"
      ],
      "text/plain": [
       "         confirmed       deaths  estimated_population_2019  city_ibge_code  \\\n",
       "count  2151.000000  1868.000000               2.081000e+03    2.081000e+03   \n",
       "mean     16.251511     0.361884               2.337236e+06    2.944834e+06   \n",
       "std      70.176558     3.581731               6.322935e+06    1.596553e+06   \n",
       "min       0.000000     0.000000               2.878000e+03    1.100000e+01   \n",
       "25%       1.000000     0.000000               8.984200e+04    2.308104e+06   \n",
       "50%       2.000000     0.000000               2.821230e+05    3.301702e+06   \n",
       "75%       6.000000     0.000000               1.204073e+06    4.208906e+06   \n",
       "max    1223.000000    68.000000               4.591905e+07    5.300108e+06   \n",
       "\n",
       "       confirmed_per_100k_inhabitants  death_rate  \n",
       "count                     2055.000000  105.000000  \n",
       "mean                         2.575954    0.220392  \n",
       "std                          6.549919    0.325988  \n",
       "min                          0.002180    0.004100  \n",
       "25%                          0.367025    0.017500  \n",
       "50%                          0.919830    0.055100  \n",
       "75%                          2.422190    0.333300  \n",
       "max                         69.492700    1.000000  "
      ]
     },
     "execution_count": 8,
     "metadata": {},
     "output_type": "execute_result"
    }
   ],
   "source": [
    "df.describe()"
   ]
  },
  {
   "cell_type": "code",
   "execution_count": 9,
   "metadata": {},
   "outputs": [
    {
     "name": "stdout",
     "output_type": "stream",
     "text": [
      "<class 'pandas.core.frame.DataFrame'>\n",
      "RangeIndex: 2151 entries, 0 to 2150\n",
      "Data columns (total 11 columns):\n",
      "date                              2151 non-null object\n",
      "state                             2151 non-null object\n",
      "city                              1785 non-null object\n",
      "place_type                        2151 non-null object\n",
      "confirmed                         2151 non-null int64\n",
      "deaths                            1868 non-null float64\n",
      "is_last                           2151 non-null bool\n",
      "estimated_population_2019         2081 non-null float64\n",
      "city_ibge_code                    2081 non-null float64\n",
      "confirmed_per_100k_inhabitants    2055 non-null float64\n",
      "death_rate                        105 non-null float64\n",
      "dtypes: bool(1), float64(5), int64(1), object(4)\n",
      "memory usage: 136.6+ KB\n"
     ]
    }
   ],
   "source": [
    "df.info()"
   ]
  },
  {
   "cell_type": "code",
   "execution_count": 15,
   "metadata": {},
   "outputs": [
    {
     "data": {
      "text/plain": [
       "0.0     1757\n",
       "1.0       70\n",
       "3.0       10\n",
       "2.0        7\n",
       "9.0        3\n",
       "6.0        3\n",
       "5.0        3\n",
       "4.0        2\n",
       "10.0       1\n",
       "62.0       1\n",
       "68.0       1\n",
       "53.0       1\n",
       "15.0       1\n",
       "8.0        1\n",
       "44.0       1\n",
       "48.0       1\n",
       "36.0       1\n",
       "40.0       1\n",
       "30.0       1\n",
       "22.0       1\n",
       "58.0       1\n",
       "Name: deaths, dtype: int64"
      ]
     },
     "execution_count": 15,
     "metadata": {},
     "output_type": "execute_result"
    }
   ],
   "source": [
    "df['deaths'].value_counts()"
   ]
  },
  {
   "cell_type": "code",
   "execution_count": null,
   "metadata": {},
   "outputs": [],
   "source": []
  }
 ],
 "metadata": {
  "kernelspec": {
   "display_name": "Python 3",
   "language": "python",
   "name": "python3"
  },
  "language_info": {
   "codemirror_mode": {
    "name": "ipython",
    "version": 3
   },
   "file_extension": ".py",
   "mimetype": "text/x-python",
   "name": "python",
   "nbconvert_exporter": "python",
   "pygments_lexer": "ipython3",
   "version": "3.7.4"
  }
 },
 "nbformat": 4,
 "nbformat_minor": 2
}
